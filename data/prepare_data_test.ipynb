{
 "cells": [
  {
   "cell_type": "code",
   "execution_count": 1,
   "metadata": {},
   "outputs": [],
   "source": [
    "import pandas as pd"
   ]
  },
  {
   "cell_type": "code",
   "execution_count": 2,
   "metadata": {},
   "outputs": [],
   "source": [
    "western_drug_df = pd.read_excel('tcm/drugs.xlsx')\n",
    "western_drug_df = western_drug_df[western_drug_df['category'] == 'w']\n",
    "western_drug_list = list(set(western_drug_df['drug-DrugBank']))"
   ]
  },
  {
   "cell_type": "code",
   "execution_count": 3,
   "metadata": {},
   "outputs": [],
   "source": [
    "chinese_drug_df = pd.read_csv('tcm/tcm_map.csv')\n",
    "chinese_drug_list = list(set(chinese_drug_df['tcm_index']))"
   ]
  },
  {
   "cell_type": "code",
   "execution_count": 4,
   "metadata": {},
   "outputs": [],
   "source": [
    "drug_list = western_drug_list + chinese_drug_list"
   ]
  },
  {
   "attachments": {},
   "cell_type": "markdown",
   "metadata": {},
   "source": [
    "# only keep the drugs that with target info"
   ]
  },
  {
   "cell_type": "code",
   "execution_count": 5,
   "metadata": {},
   "outputs": [],
   "source": [
    "node_map_df = pd.read_csv('processed/node_map.csv')\n",
    "node_list = list(node_map_df['node'])"
   ]
  },
  {
   "cell_type": "code",
   "execution_count": 6,
   "metadata": {},
   "outputs": [
    {
     "name": "stdout",
     "output_type": "stream",
     "text": [
      "21 drugs kept from 23 drugs\n"
     ]
    }
   ],
   "source": [
    "drug_keep_list = list(set(drug_list) & set(node_list))\n",
    "print('{} drugs kept from {} drugs'.format(len(drug_keep_list), len(drug_list)))"
   ]
  },
  {
   "cell_type": "code",
   "execution_count": 7,
   "metadata": {},
   "outputs": [],
   "source": [
    "# the drugs that are not in the node_map.csv\n",
    "drug_remove_list = list(set(drug_list) - set(node_list))"
   ]
  },
  {
   "cell_type": "code",
   "execution_count": 8,
   "metadata": {},
   "outputs": [
    {
     "data": {
      "text/plain": [
       "['DB00874', 'DB09019']"
      ]
     },
     "execution_count": 8,
     "metadata": {},
     "output_type": "execute_result"
    }
   ],
   "source": [
    "drug_remove_list"
   ]
  },
  {
   "attachments": {},
   "cell_type": "markdown",
   "metadata": {},
   "source": [
    "# generate drug-drug combinations"
   ]
  },
  {
   "cell_type": "code",
   "execution_count": 7,
   "metadata": {},
   "outputs": [],
   "source": [
    "ddi_to_predict_dict = {'drug1': [], 'drug2': []}\n",
    "for drug1 in drug_keep_list:\n",
    "    for drug2 in drug_keep_list:\n",
    "        if drug1 != drug2:\n",
    "            ddi_to_predict_dict['drug1'].append(drug1)\n",
    "            ddi_to_predict_dict['drug2'].append(drug2)\n",
    "\n",
    "ddi_to_predict_df = pd.DataFrame(ddi_to_predict_dict)\n",
    "ddi_to_predict_df.to_csv('tcm/ddi_to_predict.csv', index=False)"
   ]
  },
  {
   "cell_type": "code",
   "execution_count": null,
   "metadata": {},
   "outputs": [],
   "source": []
  }
 ],
 "metadata": {
  "kernelspec": {
   "display_name": "Python 3",
   "language": "python",
   "name": "python3"
  },
  "language_info": {
   "codemirror_mode": {
    "name": "ipython",
    "version": 3
   },
   "file_extension": ".py",
   "mimetype": "text/x-python",
   "name": "python",
   "nbconvert_exporter": "python",
   "pygments_lexer": "ipython3",
   "version": "3.8.10"
  },
  "orig_nbformat": 4,
  "vscode": {
   "interpreter": {
    "hash": "e7370f93d1d0cde622a1f8e1c04877d8463912d04d973331ad4851f04de6915a"
   }
  }
 },
 "nbformat": 4,
 "nbformat_minor": 2
}
