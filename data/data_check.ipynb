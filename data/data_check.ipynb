{
 "cells": [
  {
   "attachments": {},
   "cell_type": "markdown",
   "metadata": {},
   "source": [
    "# check whether all the western drugs existed in the data"
   ]
  },
  {
   "cell_type": "code",
   "execution_count": 1,
   "metadata": {},
   "outputs": [],
   "source": [
    "import pandas as pd\n",
    "\n",
    "ddi_df = pd.read_csv('processed/ddi.csv')"
   ]
  },
  {
   "cell_type": "code",
   "execution_count": 2,
   "metadata": {},
   "outputs": [],
   "source": [
    "node_map_df = pd.read_csv('processed/node_map.csv')\n",
    "nodemap2name_dict = {row['map']: row['node'] for _, row in node_map_df.iterrows()}"
   ]
  },
  {
   "cell_type": "code",
   "execution_count": 3,
   "metadata": {},
   "outputs": [],
   "source": [
    "drug_with_ddi = list(set(ddi_df['drug_1']) | set(ddi_df['drug_2']))\n",
    "drug_with_ddi = [nodemap2name_dict[i] for i in drug_with_ddi]"
   ]
  },
  {
   "cell_type": "code",
   "execution_count": 4,
   "metadata": {},
   "outputs": [],
   "source": [
    "tcm_drug_df = pd.read_excel('tcm/drugs.xlsx')\n",
    "western_drug_df = tcm_drug_df[tcm_drug_df['category'] == 'w']\n",
    "western_drug_list = list(set(western_drug_df['drug-DrugBank']))"
   ]
  },
  {
   "cell_type": "code",
   "execution_count": 5,
   "metadata": {},
   "outputs": [
    {
     "name": "stdout",
     "output_type": "stream",
     "text": [
      "DB00874\n",
      "DB09019\n"
     ]
    }
   ],
   "source": [
    "for drug in western_drug_list:\n",
    "    if drug not in drug_with_ddi:\n",
    "        print(drug)"
   ]
  },
  {
   "attachments": {},
   "cell_type": "markdown",
   "metadata": {},
   "source": [
    "# statistics"
   ]
  },
  {
   "cell_type": "code",
   "execution_count": 3,
   "metadata": {},
   "outputs": [
    {
     "data": {
      "text/html": [
       "<div>\n",
       "<style scoped>\n",
       "    .dataframe tbody tr th:only-of-type {\n",
       "        vertical-align: middle;\n",
       "    }\n",
       "\n",
       "    .dataframe tbody tr th {\n",
       "        vertical-align: top;\n",
       "    }\n",
       "\n",
       "    .dataframe thead th {\n",
       "        text-align: right;\n",
       "    }\n",
       "</style>\n",
       "<table border=\"1\" class=\"dataframe\">\n",
       "  <thead>\n",
       "    <tr style=\"text-align: right;\">\n",
       "      <th></th>\n",
       "      <th>drug1</th>\n",
       "      <th>drug2</th>\n",
       "      <th>type</th>\n",
       "      <th>severity</th>\n",
       "      <th>label</th>\n",
       "    </tr>\n",
       "  </thead>\n",
       "  <tbody>\n",
       "    <tr>\n",
       "      <th>0</th>\n",
       "      <td>DB00051</td>\n",
       "      <td>DB12001</td>\n",
       "      <td>negative</td>\n",
       "      <td>Major</td>\n",
       "      <td>-4</td>\n",
       "    </tr>\n",
       "    <tr>\n",
       "      <th>1</th>\n",
       "      <td>DB00087</td>\n",
       "      <td>DB12001</td>\n",
       "      <td>negative</td>\n",
       "      <td>Moderate</td>\n",
       "      <td>-3</td>\n",
       "    </tr>\n",
       "    <tr>\n",
       "      <th>2</th>\n",
       "      <td>DB00092</td>\n",
       "      <td>DB12001</td>\n",
       "      <td>negative</td>\n",
       "      <td>Moderate</td>\n",
       "      <td>-3</td>\n",
       "    </tr>\n",
       "    <tr>\n",
       "      <th>3</th>\n",
       "      <td>DB00357</td>\n",
       "      <td>DB12001</td>\n",
       "      <td>negative</td>\n",
       "      <td>Moderate</td>\n",
       "      <td>-3</td>\n",
       "    </tr>\n",
       "    <tr>\n",
       "      <th>4</th>\n",
       "      <td>DB01351</td>\n",
       "      <td>DB12001</td>\n",
       "      <td>negative</td>\n",
       "      <td>Moderate</td>\n",
       "      <td>-3</td>\n",
       "    </tr>\n",
       "  </tbody>\n",
       "</table>\n",
       "</div>"
      ],
      "text/plain": [
       "     drug1    drug2      type  severity  label\n",
       "0  DB00051  DB12001  negative     Major     -4\n",
       "1  DB00087  DB12001  negative  Moderate     -3\n",
       "2  DB00092  DB12001  negative  Moderate     -3\n",
       "3  DB00357  DB12001  negative  Moderate     -3\n",
       "4  DB01351  DB12001  negative  Moderate     -3"
      ]
     },
     "execution_count": 3,
     "metadata": {},
     "output_type": "execute_result"
    }
   ],
   "source": [
    "import pandas as pd\n",
    "ddi_df = pd.read_csv('ddi.csv')\n",
    "ddi_df.head()"
   ]
  },
  {
   "cell_type": "code",
   "execution_count": 4,
   "metadata": {},
   "outputs": [
    {
     "name": "stdout",
     "output_type": "stream",
     "text": [
      "592986\n"
     ]
    }
   ],
   "source": [
    "print(len(ddi_df[ddi_df['type']=='negative']))"
   ]
  },
  {
   "cell_type": "code",
   "execution_count": 5,
   "metadata": {},
   "outputs": [
    {
     "name": "stdout",
     "output_type": "stream",
     "text": [
      "4289\n"
     ]
    }
   ],
   "source": [
    "n_ddi_df = ddi_df[ddi_df['type']=='negative']\n",
    "drug_n_ddi_list = list(set(n_ddi_df['drug1']) | set(n_ddi_df['drug2']))\n",
    "print(len(drug_n_ddi_list))"
   ]
  },
  {
   "attachments": {},
   "cell_type": "markdown",
   "metadata": {},
   "source": [
    "# Statistics"
   ]
  },
  {
   "cell_type": "code",
   "execution_count": 1,
   "metadata": {},
   "outputs": [
    {
     "data": {
      "text/html": [
       "<div>\n",
       "<style scoped>\n",
       "    .dataframe tbody tr th:only-of-type {\n",
       "        vertical-align: middle;\n",
       "    }\n",
       "\n",
       "    .dataframe tbody tr th {\n",
       "        vertical-align: top;\n",
       "    }\n",
       "\n",
       "    .dataframe thead th {\n",
       "        text-align: right;\n",
       "    }\n",
       "</style>\n",
       "<table border=\"1\" class=\"dataframe\">\n",
       "  <thead>\n",
       "    <tr style=\"text-align: right;\">\n",
       "      <th></th>\n",
       "      <th>Unnamed: 0</th>\n",
       "      <th>Unnamed: 0.1</th>\n",
       "      <th>DrugBank ID1</th>\n",
       "      <th>DrugBank ID2</th>\n",
       "      <th>Label</th>\n",
       "      <th>Entrez1</th>\n",
       "      <th>Entrez2</th>\n",
       "    </tr>\n",
       "  </thead>\n",
       "  <tbody>\n",
       "    <tr>\n",
       "      <th>0</th>\n",
       "      <td>0</td>\n",
       "      <td>0</td>\n",
       "      <td>DB00004</td>\n",
       "      <td>DB00005</td>\n",
       "      <td>Negative</td>\n",
       "      <td>3559</td>\n",
       "      <td>2215</td>\n",
       "    </tr>\n",
       "    <tr>\n",
       "      <th>1</th>\n",
       "      <td>24</td>\n",
       "      <td>24</td>\n",
       "      <td>DB00008</td>\n",
       "      <td>DB00005</td>\n",
       "      <td>Negative</td>\n",
       "      <td>3455</td>\n",
       "      <td>2215</td>\n",
       "    </tr>\n",
       "    <tr>\n",
       "      <th>2</th>\n",
       "      <td>48</td>\n",
       "      <td>48</td>\n",
       "      <td>DB00022</td>\n",
       "      <td>DB00005</td>\n",
       "      <td>Negative</td>\n",
       "      <td>3455</td>\n",
       "      <td>2215</td>\n",
       "    </tr>\n",
       "    <tr>\n",
       "      <th>3</th>\n",
       "      <td>96</td>\n",
       "      <td>96</td>\n",
       "      <td>DB00041</td>\n",
       "      <td>DB00005</td>\n",
       "      <td>Negative</td>\n",
       "      <td>3559</td>\n",
       "      <td>2215</td>\n",
       "    </tr>\n",
       "    <tr>\n",
       "      <th>4</th>\n",
       "      <td>160</td>\n",
       "      <td>160</td>\n",
       "      <td>DB00051</td>\n",
       "      <td>DB00005</td>\n",
       "      <td>Negative</td>\n",
       "      <td>7124</td>\n",
       "      <td>2215</td>\n",
       "    </tr>\n",
       "  </tbody>\n",
       "</table>\n",
       "</div>"
      ],
      "text/plain": [
       "   Unnamed: 0  Unnamed: 0.1 DrugBank ID1 DrugBank ID2     Label  Entrez1  \\\n",
       "0           0             0      DB00004      DB00005  Negative     3559   \n",
       "1          24            24      DB00008      DB00005  Negative     3455   \n",
       "2          48            48      DB00022      DB00005  Negative     3455   \n",
       "3          96            96      DB00041      DB00005  Negative     3559   \n",
       "4         160           160      DB00051      DB00005  Negative     7124   \n",
       "\n",
       "   Entrez2  \n",
       "0     2215  \n",
       "1     2215  \n",
       "2     2215  \n",
       "3     2215  \n",
       "4     2215  "
      ]
     },
     "execution_count": 1,
     "metadata": {},
     "output_type": "execute_result"
    }
   ],
   "source": [
    "import pandas as pd\n",
    "\n",
    "ddi_df = pd.read_excel('ddi.xlsx')\n",
    "ddi_df.head()"
   ]
  },
  {
   "cell_type": "code",
   "execution_count": null,
   "metadata": {},
   "outputs": [],
   "source": []
  }
 ],
 "metadata": {
  "kernelspec": {
   "display_name": "Python 3",
   "language": "python",
   "name": "python3"
  },
  "language_info": {
   "codemirror_mode": {
    "name": "ipython",
    "version": 3
   },
   "file_extension": ".py",
   "mimetype": "text/x-python",
   "name": "python",
   "nbconvert_exporter": "python",
   "pygments_lexer": "ipython3",
   "version": "3.8.10"
  },
  "orig_nbformat": 4,
  "vscode": {
   "interpreter": {
    "hash": "e7370f93d1d0cde622a1f8e1c04877d8463912d04d973331ad4851f04de6915a"
   }
  }
 },
 "nbformat": 4,
 "nbformat_minor": 2
}
